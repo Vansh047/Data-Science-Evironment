{
  "metadata": {
    "kernelspec": {
      "name": "python",
      "display_name": "Python (Pyodide)",
      "language": "python"
    },
    "language_info": {
      "codemirror_mode": {
        "name": "python",
        "version": 3
      },
      "file_extension": ".py",
      "mimetype": "text/x-python",
      "name": "python",
      "nbconvert_exporter": "python",
      "pygments_lexer": "ipython3",
      "version": "3.8"
    }
  },
  "nbformat_minor": 5,
  "nbformat": 4,
  "cells": [
    {
      "id": "8d1e23e9-9820-4986-aab3-71ec580debe1",
      "cell_type": "code",
      "source": "# Data Science Tools and Ecosystem\n\nIn this notebook, Data Science Tools and Ecosystem are summarized.\n\nSome of the popular languages that Data Scientists use are:\n1. Python\n2. R\n3. SQL\n\nSome of the commonly used libraries used by Data Scientists include:\n1. NumPy\n2. pandas\n3. Matplotlib\n\n| Data Science Tools |\n|--------------------|\n| Jupyter Notebooks  |\n| RStudio            |\n| Apache Zeppelin    |\n\n ### Below are a few examples of evaluating arithmetic expressions in Python.\n\n # This is a simple arithmetic expression to multiply then add integers\n(3 * 4) + 5\n\n # This will convert 200 minutes to hours by dividing by 60\n200 / 60\n\n **Objectives:**\n- List popular languages for Data Science\n- List common libraries for Data Science\n- Provide examples of arithmetic operations in Python\n\n## Author\nVansh Chaudhary",
      "metadata": {
        "trusted": true
      },
      "outputs": [],
      "execution_count": null
    }
  ]
}